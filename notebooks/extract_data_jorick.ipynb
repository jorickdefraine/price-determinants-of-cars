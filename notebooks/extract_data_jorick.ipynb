{
 "cells": [
  {
   "cell_type": "code",
   "execution_count": 1,
   "metadata": {},
   "outputs": [],
   "source": [
    "from bs4 import BeautifulSoup\n",
    "import codecs\n",
    "import glob   "
   ]
  },
  {
   "cell_type": "code",
   "execution_count": 56,
   "metadata": {},
   "outputs": [
    {
     "name": "stdout",
     "output_type": "stream",
     "text": [
      "../data/auto-occasion-annonce-69107657064.html\n"
     ]
    }
   ],
   "source": [
    "path = '../data/*.html'   \n",
    "files=glob.glob(path)   "
   ]
  },
  {
   "cell_type": "code",
   "execution_count": 2,
   "metadata": {},
   "outputs": [],
   "source": [
    "file = codecs.open(\"../data/auto-occasion-annonce-66101362200.html\", \"r\", \"utf-8\").read()"
   ]
  },
  {
   "cell_type": "code",
   "execution_count": 60,
   "metadata": {},
   "outputs": [
    {
     "name": "stdout",
     "output_type": "stream",
     "text": [
      "BMW\n",
      "X3 F25\n",
      "\n",
      "23 190 €\n",
      "\n",
      "TOYOTA\n",
      "AYGO 2\n",
      "\n",
      "9 030 €\n",
      "\n",
      "MERCEDES\n",
      "SL\n",
      "\n",
      "17 910 €\n",
      "\n",
      "RENAULT\n",
      "CAPTUR\n",
      "\n",
      "22 470 €\n",
      "\n",
      "BMW\n",
      "SERIE 3\n",
      "\n",
      "45 420 €\n",
      "\n",
      "PEUGEOT\n",
      "E-2008 (2E\n",
      "\n",
      "35 880 €\n",
      "\n",
      "OPEL\n",
      "COMBO CARGO\n",
      "\n",
      "20 850 €\n",
      "\n",
      "FIAT\n",
      "500 L\n",
      "\n",
      "17 000 €\n",
      "\n",
      "SMART\n",
      "FORTWO 3\n",
      "\n",
      "30 970 €\n",
      "\n",
      "AUDI\n",
      "SQ5\n",
      "\n",
      "34 500 €\n",
      "\n"
     ]
    }
   ],
   "source": [
    "cnt=0\n",
    "for file_elt in files:\n",
    "    if cnt<10:\n",
    "        cnt+=1\n",
    "        try:\n",
    "            file = codecs.open(file_elt, \"r\", \"utf-8\").read()\n",
    "            soup = BeautifulSoup(file, features='html.parser')\n",
    "            brand = soup.find('div', class_='cbm-title--page').text.split()[0]\n",
    "            model = \" \".join(soup.find('div', class_='cbm-title--page').text.split()[1:3])\n",
    "            price = soup.find('span', class_='cbm__priceWrapper').text\n",
    "            \n",
    "            print(brand)\n",
    "            print(model)\n",
    "            print(price)\n",
    "        except:\n",
    "            print(\"fail\")\n",
    "            print(file_elt)"
   ]
  },
  {
   "cell_type": "code",
   "execution_count": null,
   "metadata": {},
   "outputs": [],
   "source": []
  }
 ],
 "metadata": {
  "kernelspec": {
   "display_name": "Python 3",
   "language": "python",
   "name": "python3"
  },
  "language_info": {
   "codemirror_mode": {
    "name": "ipython",
    "version": 3
   },
   "file_extension": ".py",
   "mimetype": "text/x-python",
   "name": "python",
   "nbconvert_exporter": "python",
   "pygments_lexer": "ipython3",
   "version": "3.8.5"
  }
 },
 "nbformat": 4,
 "nbformat_minor": 4
}
