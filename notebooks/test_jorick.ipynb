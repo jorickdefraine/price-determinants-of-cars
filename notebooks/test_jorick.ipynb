{
 "cells": [
  {
   "cell_type": "code",
   "execution_count": 138,
   "metadata": {},
   "outputs": [],
   "source": [
    "from bs4 import BeautifulSoup\n",
    "import requests\n",
    "from time import sleep\n",
    "import os\n",
    "import urllib.request\n",
    "import random\n",
    "from lxml import html\n",
    "import pandas as pd\n",
    "from datetime import datetime\n",
    "import csv\n",
    "import json"
   ]
  },
  {
   "cell_type": "code",
   "execution_count": 2,
   "metadata": {},
   "outputs": [],
   "source": [
    "headers = [{\n",
    "    'user-agent': 'Mozilla/5.0 (Windows NT 10.0; Win64; x64) AppleWebKit/537.36 (KHTML, like Gecko) Chrome/74.0.3729.169 Safari/537.36'},\n",
    "    {'user-agent': 'Mozilla/5.0 (Windows NT 6.1; Win64; x64; rv:47.0) Gecko/20100101 Firefox/47.3'},\n",
    "    {'user-agent': 'Mozilla/5.0 (Macintosh; Intel Mac OS X x.y; rv:42.0) Gecko/20100101 Firefox/43.4'},\n",
    "    {\n",
    "        'user-agent': 'Mozilla/5.0 (X11; Linux x86_64) AppleWebKit/537.36 (KHTML, like Gecko) Chrome/77.0.3865.90 Safari/537.36'},\n",
    "    {\n",
    "        'user-agent': 'Mozilla/5.0 (iPhone; CPU iPhone OS 11_3_1 like Mac OS X) AppleWebKit/603.1.30 (KHTML, like Gecko) Version/10.0 Mobile/14E304 Safari/602.1'}]\n",
    "\n",
    "locations = [\"AR\", \"DZ\", \"AM\", \"AU\", \"AUADL\", \"AUBNE\", \"AUMEL\", \"AUPER\", \"AUSYD\", \"AT\", \"AZ\", \"BS\", \"BD\", \"BY\", \"BZ\",\n",
    "             \"BE\", \"BT\", \"BA\", \"BR\", \"BN\", \"BG\", \"CA\", \"CAYMQ\", \"CAYTO\", \"CAYVR\", \"CL\", \"CN\", \"CO\", \"CR\", \"HR\", \"KH\",\n",
    "             \"CZ\", \"DK\", \"EE\", \"EC\", \"EG\", \"FI\", \"FR\", \"FRPAR\", \"GE\", \"GR\", \"DE\", \"HK\", \"HU\", \"IE\", \"ID\", \"IL\", \"IM\",\n",
    "             \"IN\", \"IS\", \"IT\", \"ITMIL\", \"ITROM\", \"JP\", \"KG\", \"KZ\", \"LA\", \"LI\", \"LT\", \"LU\", \"LV\", \"ME\", \"MC\", \"MD\", \"MT\",\n",
    "             \"MX\", \"MY\", \"NL\", \"NO\", \"NP\", \"NZ\", \"PA\", \"PE\", \"PH\", \"PK\", \"PL\", \"PT\", \"RO\", \"RU\", \"SG\", \"KR\", \"ES\",\n",
    "             \"ESBCN\", \"SE\", \"SK\", \"ZA\", \"CH\", \"TH\", \"TR\", \"TW\", \"UA\", \"US\", \"USATL\", \"USBOS\", \"USCLT\", \"USCHI\", \"USCOL\",\n",
    "             \"USDAL\", \"USHOU\", \"USIND\", \"USMCI\", \"USLAS\", \"USLAX\", \"USMIA\", \"USEWR\", \"USNYC\", \"USORD\", \"USPHL\", \"USPHX\",\n",
    "             \"USPDX\", \"USSFO\", \"USSJC\", \"USSEA\", \"USWAS\", \"UY\", \"AE\", \"GB\", \"GBCVT\", \"VE\", \"VN\"]\n",
    "\n",
    "def change_locations():\n",
    "    os.system(\"hotspotshield disconnect\")\n",
    "    location = locations[random.randrange(len(locations))]\n",
    "    print(location)\n",
    "    os.system(\"hotspotshield connect \" + location)"
   ]
  },
  {
   "cell_type": "code",
   "execution_count": 143,
   "metadata": {},
   "outputs": [],
   "source": [
    "def scrap_subcar_requests(url):\n",
    "    req = requests.get(url, headers=headers[random.randrange(5)])\n",
    "    doc = html.fromstring(req.text)\n",
    "    soup = BeautifulSoup(req.text, features='html.parser')\n",
    "\n",
    "    try:\n",
    "        name = doc.xpath('/html/body/section/section[1]/div[3]/div/div/div[1]')[0].text_content().replace('\\n', '')\n",
    "    except:\n",
    "        name = 'NAN'\n",
    "    try:\n",
    "        model = doc.xpath('//*[@id=\"generalInformation\"]/h1')[0].text_content().replace(name, '')\n",
    "    except:\n",
    "        model = 'NAN'\n",
    "    try:\n",
    "        Prix = doc.xpath('/html/body/section/section[1]/div[3]/div/div/div[2]/div/span/span')[0].text_content().replace(\n",
    "            '\\xa0', '').replace('\\n', '')\n",
    "    except:\n",
    "        Prix = 'NAN'\n",
    "    try:\n",
    "        Mise_en_circluation = doc.xpath('//*[@id=\"generalInformation\"]/div[2]/ul[1]/li[2]/span[2]')[0].text_content()\n",
    "    except:\n",
    "        Mise_en_circluation = 'NAN'\n",
    "    try:\n",
    "        Kilométrage_compteur = doc.xpath('//*[@id=\"generalInformation\"]/div[2]/ul[1]/li[4]/span[2]')[0].text_content()\n",
    "    except:\n",
    "        Kilométrage_compteur = 'NAN'\n",
    "    try:\n",
    "        Energie = doc.xpath('//*[@id=\"generalInformation\"]/div[2]/ul[1]/li[5]/span[2]')[0].text_content()\n",
    "    except:\n",
    "        Energie = 'NAN'\n",
    "    try:\n",
    "        Boite_de_vitesse = doc.xpath('//*[@id=\"generalInformation\"]/div[2]/ul[1]/li[6]/span[2]')[0].text_content()\n",
    "    except:\n",
    "        Boite_de_vitesse = 'NAN'\n",
    "    try:\n",
    "        Nombre_de_porte = doc.xpath('//*[@id=\"generalInformation\"]/div[2]/ul[1]/li[8]/span[2]')[0].text_content()\n",
    "    except:\n",
    "        Nombre_de_porte = 'NAN'\n",
    "    try:\n",
    "        Nombre_de_place = doc.xpath('//*[@id=\"generalInformation\"]/div[2]/ul[1]/li[9]/span[2]')[0].text_content()\n",
    "    except:\n",
    "        Nombre_de_place = 'NAN'\n",
    "    try:\n",
    "        Puissance_fiscale = doc.xpath('//*[@id=\"generalInformation\"]/div[2]/ul[2]/li[5]/span[2]')[\n",
    "            0].text_content()  # .replace('CV','')\n",
    "    except:\n",
    "        Puissance_fiscale = 'NAN'\n",
    "    try:\n",
    "        Puissance_din = doc.xpath('//*[@id=\"generalInformation\"]/div[2]/ul[2]/li[6]/span[2]')[0].text_content()\n",
    "    except:\n",
    "        Puissance_din = 'NAN'\n",
    "    try:\n",
    "        Consommation_mixte = doc.xpath('//*[@id=\"generalInformation\"]/div[2]/ul[2]/li[9]/span[2]')[0].text_content()\n",
    "    except:\n",
    "        Consommation_mixte = 'NAN'\n",
    "\n",
    "    try:\n",
    "        Emission_CO2 = doc.xpath('//*[@id=\"generalInformation\"]/div[2]/ul[2]/li[8]/span[2]')[\n",
    "            0].text_content()  # .replace('g/kmB','') if we want to delete the suffix\n",
    "    except:\n",
    "        Emission_CO2 = 'NAN'\n",
    "\n",
    "    department = soup.find_all('div', class_='cbm-outlet__information--title')[0].text[-5:].replace(\"(\",\"\").replace(\")\",\"\")\n",
    "    post_time = soup.find_all('div', class_='cbm-toolboxButtons')[0].find_all('span')[0].text\n",
    "    number_photos = len(json.loads(soup.find_all('div', class_=\"cbm-mainColumn\")[0].find_all('div', {\"id\":\"cbm-carousel\"})[0].text)[\"slides\"])\n",
    "    \n",
    "    result = {'nom': name, 'model': model, 'price': Prix, 'Mise_en_circluation': Mise_en_circluation,\n",
    "              'Kilométrage_compteur': Kilométrage_compteur, 'Energie': Energie, 'Boite_de_vitesse': Boite_de_vitesse,\n",
    "              'Nombre_de_porte': Nombre_de_porte, 'Nombre_de_place': Nombre_de_place,\n",
    "              'Puissance_fiscale': Puissance_fiscale, 'Puissance_din': Puissance_din,\n",
    "              'Consommation_mixte': Consommation_mixte, \n",
    "              'Emission_CO2': Emission_CO2, 'URL': url, \n",
    "              'DATETIME': datetime.now().strftime(\"%d/%m/%Y, %H:%M:%S\"), \n",
    "              \"department\": department, \"post_time\":post_time, \"number_photos\": number_photos}\n",
    "\n",
    "    return result"
   ]
  },
  {
   "cell_type": "code",
   "execution_count": 144,
   "metadata": {},
   "outputs": [
    {
     "name": "stdout",
     "output_type": "stream",
     "text": [
      "{'nom': 'PEUGEOT 2008', 'model': ' (2) PURETECH 110 S&S ALLURE EAT6', 'price': '19 300€', 'Mise_en_circluation': '03/10/2020', 'Kilométrage_compteur': '19 022 Km', 'Energie': 'Essence', 'Boite_de_vitesse': 'automatique', 'Nombre_de_porte': '5', 'Nombre_de_place': '5', 'Puissance_fiscale': '6 CV', 'Puissance_din': '110 ch', 'Consommation_mixte': '5.5 l/100km', 'Emission_CO2': '114 g/kmB', 'URL': 'https://www.lacentrale.fr/auto-occasion-annonce-69107606237.html', 'DATETIME': '26/12/2020, 11:12:51', 'department': '93\\n', 'post_time': '\\nPublié depuis : 25 jours\\n', 'number_photos': 51}\n"
     ]
    }
   ],
   "source": [
    "r = scrap_subcar_requests(\"https://www.lacentrale.fr/auto-occasion-annonce-69107606237.html\")\n",
    "print(r)"
   ]
  },
  {
   "cell_type": "code",
   "execution_count": null,
   "metadata": {},
   "outputs": [],
   "source": []
  }
 ],
 "metadata": {
  "kernelspec": {
   "display_name": "Python 3",
   "language": "python",
   "name": "python3"
  },
  "language_info": {
   "codemirror_mode": {
    "name": "ipython",
    "version": 3
   },
   "file_extension": ".py",
   "mimetype": "text/x-python",
   "name": "python",
   "nbconvert_exporter": "python",
   "pygments_lexer": "ipython3",
   "version": "3.8.5"
  }
 },
 "nbformat": 4,
 "nbformat_minor": 4
}
